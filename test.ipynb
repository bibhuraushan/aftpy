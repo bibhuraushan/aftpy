{
 "cells": [
  {
   "cell_type": "code",
   "execution_count": 3,
   "id": "2f6de63e-2a0d-43eb-a9e4-923a80493291",
   "metadata": {},
   "outputs": [
    {
     "name": "stdout",
     "output_type": "stream",
     "text": [
      "RootDir   : /Users/bjha/Data/AFT/AFTfarmaps/v2_300_10/2021\n",
      "FileType  : h5                            \n",
      "# Files   : 1460                          \n",
      "T-Initial : 2021-01-01 00:00:00           \n",
      "T-End     : 2021-12-31 18:00:00           \n"
     ]
    }
   ],
   "source": [
    "%reload_ext autoreload\n",
    "%autoreload 2\n",
    "import h5py as h5\n",
    "import aftpy.aftmap as aft\n",
    "import aftpy.getaftdata as aftget\n",
    "import matplotlib.pyplot as plt\n",
    "from astropy.time import Time\n",
    "import datetime as dt\n",
    "file1 = \"/Users/bjha/Data/AFT/AFTfarmaps/v2_300_10/2020/01/AFTmap_20200101_0000.h5\"\n",
    "file2 = \"/Users/bjha/Downloads/AFTmap_20100502_0000.h5\"\n",
    "\n",
    "aftmap1 = aft.AFTmap(file1)\n",
    "aftmap2 = aft.AFTmap(file2)\n",
    "\n",
    "aftdata = aft.AFTload(path=\"/Users/bjha/Data/AFT/AFTfarmaps/v2_300_10/2021\")\n",
    "# aftmap1.info"
   ]
  },
  {
   "cell_type": "code",
   "execution_count": null,
   "id": "0458c567-f42f-4511-991b-96d28d3c4cc9",
   "metadata": {},
   "outputs": [],
   "source": []
  },
  {
   "cell_type": "code",
   "execution_count": 10,
   "id": "941da621-f161-4b9c-bb07-429679b32b71",
   "metadata": {},
   "outputs": [
    {
     "name": "stdout",
     "output_type": "stream",
     "text": [
      "(100.00%) Converting AFTmap_20201231_1800.h5 to AFTmap_20201231_1800.fits\r"
     ]
    }
   ],
   "source": [
    "aftdata.convert_all(outpath=\"/Users/bjha/Data/AFT/test_fits\")"
   ]
  },
  {
   "cell_type": "code",
   "execution_count": 9,
   "id": "d0e9ca5b-8fb8-4581-9065-6232d605dd37",
   "metadata": {},
   "outputs": [],
   "source": [
    "hipft=aft.AFTmap(\"/Users/bjha/Data/oft/OFTmaps/hipft_brmap_idx000001.h5\",\n",
    "                 filetype=\"hipft\", timestamp=\"2024-01-01T00:00:00\")"
   ]
  },
  {
   "cell_type": "code",
   "execution_count": 8,
   "id": "2c6cb529-3deb-4b0e-91ab-697c41836ebc",
   "metadata": {},
   "outputs": [
    {
     "name": "stdout",
     "output_type": "stream",
     "text": [
      "RootDir   : /Users/bjha/Data/oft/OFTmaps/ \n",
      "FileType  : hipft                         \n",
      "# Files   : 366                           \n",
      "T-Initial : 2022-01-01 00:00:00           \n",
      "T-End     : 2023-01-01 00:00:00           \n"
     ]
    }
   ],
   "source": [
    "import datetime as dt\n",
    "hipft_prop ={\"T0\":dt.datetime(2022,1,1), \"dt\":1}\n",
    "hipdata = aft.AFTload(path=\"/Users/bjha/Data/oft/OFTmaps/\",\n",
    "                 filetype=\"hipft\", hipft_prop=hipft_prop)"
   ]
  },
  {
   "cell_type": "code",
   "execution_count": 11,
   "id": "bdcd43c7-664a-415d-b9ff-936f3d3d5c8e",
   "metadata": {},
   "outputs": [
    {
     "data": {
      "text/plain": [
       "('2024', '01', '01')"
      ]
     },
     "execution_count": 11,
     "metadata": {},
     "output_type": "execute_result"
    }
   ],
   "source": [
    "hipft.ymd"
   ]
  },
  {
   "cell_type": "code",
   "execution_count": 4,
   "id": "2de9a08c-06c2-4646-8dad-85aa8adf5985",
   "metadata": {},
   "outputs": [
    {
     "name": "stderr",
     "output_type": "stream",
     "text": [
      "100%|██████████| 365/365 [02:08<00:00,  2.85it/s]\n"
     ]
    }
   ],
   "source": [
    "daft = aftget.AFTdownload()\n",
    "url = daft.get_list(t0=dt.datetime(2015, 1,1), t1=dt.datetime(2016, 1,1), cadance=1)\n",
    "daft.download(url,rootpath=\"/Users/bjha/Data/test/\")"
   ]
  },
  {
   "cell_type": "code",
   "execution_count": 26,
   "id": "17a6e396-ec2d-439e-ab2b-253248cedf3a",
   "metadata": {},
   "outputs": [
    {
     "data": {
      "text/html": [
       "<div>\n",
       "<style scoped>\n",
       "    .dataframe tbody tr th:only-of-type {\n",
       "        vertical-align: middle;\n",
       "    }\n",
       "\n",
       "    .dataframe tbody tr th {\n",
       "        vertical-align: top;\n",
       "    }\n",
       "\n",
       "    .dataframe thead th {\n",
       "        text-align: right;\n",
       "    }\n",
       "</style>\n",
       "<table border=\"1\" class=\"dataframe\">\n",
       "  <thead>\n",
       "    <tr style=\"text-align: right;\">\n",
       "      <th></th>\n",
       "      <th>urls</th>\n",
       "    </tr>\n",
       "    <tr>\n",
       "      <th>times</th>\n",
       "      <th></th>\n",
       "    </tr>\n",
       "  </thead>\n",
       "  <tbody>\n",
       "    <tr>\n",
       "      <th>2015-01-01T00:00:00</th>\n",
       "      <td>https://data.boulder.swri.edu/lisa/AFT_Baselin...</td>\n",
       "    </tr>\n",
       "    <tr>\n",
       "      <th>2015-01-02T00:00:00</th>\n",
       "      <td>https://data.boulder.swri.edu/lisa/AFT_Baselin...</td>\n",
       "    </tr>\n",
       "    <tr>\n",
       "      <th>2015-01-03T00:00:00</th>\n",
       "      <td>https://data.boulder.swri.edu/lisa/AFT_Baselin...</td>\n",
       "    </tr>\n",
       "    <tr>\n",
       "      <th>2015-01-04T00:00:00</th>\n",
       "      <td>https://data.boulder.swri.edu/lisa/AFT_Baselin...</td>\n",
       "    </tr>\n",
       "    <tr>\n",
       "      <th>2015-01-05T00:00:00</th>\n",
       "      <td>https://data.boulder.swri.edu/lisa/AFT_Baselin...</td>\n",
       "    </tr>\n",
       "    <tr>\n",
       "      <th>...</th>\n",
       "      <td>...</td>\n",
       "    </tr>\n",
       "    <tr>\n",
       "      <th>2015-12-27T00:00:00</th>\n",
       "      <td>https://data.boulder.swri.edu/lisa/AFT_Baselin...</td>\n",
       "    </tr>\n",
       "    <tr>\n",
       "      <th>2015-12-28T00:00:00</th>\n",
       "      <td>https://data.boulder.swri.edu/lisa/AFT_Baselin...</td>\n",
       "    </tr>\n",
       "    <tr>\n",
       "      <th>2015-12-29T00:00:00</th>\n",
       "      <td>https://data.boulder.swri.edu/lisa/AFT_Baselin...</td>\n",
       "    </tr>\n",
       "    <tr>\n",
       "      <th>2015-12-30T00:00:00</th>\n",
       "      <td>https://data.boulder.swri.edu/lisa/AFT_Baselin...</td>\n",
       "    </tr>\n",
       "    <tr>\n",
       "      <th>2015-12-31T00:00:00</th>\n",
       "      <td>https://data.boulder.swri.edu/lisa/AFT_Baselin...</td>\n",
       "    </tr>\n",
       "  </tbody>\n",
       "</table>\n",
       "<p>365 rows × 1 columns</p>\n",
       "</div>"
      ],
      "text/plain": [
       "                                                                  urls\n",
       "times                                                                 \n",
       "2015-01-01T00:00:00  https://data.boulder.swri.edu/lisa/AFT_Baselin...\n",
       "2015-01-02T00:00:00  https://data.boulder.swri.edu/lisa/AFT_Baselin...\n",
       "2015-01-03T00:00:00  https://data.boulder.swri.edu/lisa/AFT_Baselin...\n",
       "2015-01-04T00:00:00  https://data.boulder.swri.edu/lisa/AFT_Baselin...\n",
       "2015-01-05T00:00:00  https://data.boulder.swri.edu/lisa/AFT_Baselin...\n",
       "...                                                                ...\n",
       "2015-12-27T00:00:00  https://data.boulder.swri.edu/lisa/AFT_Baselin...\n",
       "2015-12-28T00:00:00  https://data.boulder.swri.edu/lisa/AFT_Baselin...\n",
       "2015-12-29T00:00:00  https://data.boulder.swri.edu/lisa/AFT_Baselin...\n",
       "2015-12-30T00:00:00  https://data.boulder.swri.edu/lisa/AFT_Baselin...\n",
       "2015-12-31T00:00:00  https://data.boulder.swri.edu/lisa/AFT_Baselin...\n",
       "\n",
       "[365 rows x 1 columns]"
      ]
     },
     "execution_count": 26,
     "metadata": {},
     "output_type": "execute_result"
    }
   ],
   "source": [
    "url"
   ]
  },
  {
   "cell_type": "code",
   "execution_count": 1,
   "id": "22c31cc0-5d29-4a6d-891c-93330baf806b",
   "metadata": {},
   "outputs": [],
   "source": []
  },
  {
   "cell_type": "code",
   "execution_count": 2,
   "id": "e6851ad6-590d-41b0-b67a-7520aea18bf0",
   "metadata": {},
   "outputs": [],
   "source": [
    "a=AFTdownload()\n",
    "b=a.get_list(t0=dt.datetime(2013, 1,1), t1=dt.datetime(2014, 1,1), dt=4)"
   ]
  },
  {
   "cell_type": "code",
   "execution_count": 3,
   "id": "bb4a224f-6979-4839-a27c-be3f6c9eec6c",
   "metadata": {},
   "outputs": [
    {
     "name": "stderr",
     "output_type": "stream",
     "text": [
      "100%|██████████| 365/365 [01:27<00:00,  4.15it/s]\n"
     ]
    }
   ],
   "source": [
    "a.download(b, rootpath=\"/Users/bjha/Data/test/\")\n",
    "# urlretrieve(b.urls.values[0], os.path.basename(b.urls.values[0]))"
   ]
  },
  {
   "cell_type": "code",
   "execution_count": 54,
   "id": "9df62913-715e-4d8a-9fea-3a4e10710c36",
   "metadata": {},
   "outputs": [
    {
     "data": {
      "text/plain": [
       "Index(['2010-05-01T06:00:00', '2010-05-01T12:00:00', '2010-05-01T18:00:00',\n",
       "       '2010-05-02T00:00:00', '2010-05-02T06:00:00', '2010-05-02T12:00:00',\n",
       "       '2010-05-02T18:00:00', '2010-05-03T00:00:00', '2010-05-03T06:00:00',\n",
       "       '2010-05-03T12:00:00',\n",
       "       ...\n",
       "       '2023-12-30T12:00:00', '2023-12-30T18:00:00', '2023-12-31T00:00:00',\n",
       "       '2023-12-31T06:00:00', '2023-12-31T12:00:00', '2023-12-31T18:00:00',\n",
       "       '2024-01-01T00:00:00', '2024-01-01T06:00:00', '2024-01-01T12:00:00',\n",
       "       '2024-01-01T18:00:00'],\n",
       "      dtype='object', name='times', length=19975)"
      ]
     },
     "execution_count": 54,
     "metadata": {},
     "output_type": "execute_result"
    }
   ],
   "source": [
    "pd.read_csv(\"data/list_of_files.csv\", index_col=\"times\").index"
   ]
  },
  {
   "cell_type": "code",
   "execution_count": 96,
   "id": "cdde10d3-f85b-4a8c-b260-0d5db337fd88",
   "metadata": {},
   "outputs": [
    {
     "data": {
      "text/plain": [
       "'AFTmap_20120101_0000.h5'"
      ]
     },
     "execution_count": 96,
     "metadata": {},
     "output_type": "execute_result"
    }
   ],
   "source": [
    "os.path.basename(b.urls.iloc[0])"
   ]
  },
  {
   "cell_type": "code",
   "execution_count": 98,
   "id": "16a71196-6340-4935-b642-a8630f2e8e63",
   "metadata": {},
   "outputs": [
    {
     "data": {
      "text/plain": [
       "array(['data', 'data', 'data', 'data', 'data', 'data', 'data', 'data',\n",
       "       'data', 'data'], dtype='<U4')"
      ]
     },
     "execution_count": 98,
     "metadata": {},
     "output_type": "execute_result"
    }
   ],
   "source": [
    "np.full(10, \"data\")"
   ]
  },
  {
   "cell_type": "code",
   "execution_count": null,
   "id": "20f8fbf8-f427-4404-9fe4-c0dd8d1e0957",
   "metadata": {},
   "outputs": [],
   "source": []
  }
 ],
 "metadata": {
  "kernelspec": {
   "display_name": "Python 3 (ipykernel)",
   "language": "python",
   "name": "python3"
  },
  "language_info": {
   "codemirror_mode": {
    "name": "ipython",
    "version": 3
   },
   "file_extension": ".py",
   "mimetype": "text/x-python",
   "name": "python",
   "nbconvert_exporter": "python",
   "pygments_lexer": "ipython3",
   "version": "3.10.13"
  }
 },
 "nbformat": 4,
 "nbformat_minor": 5
}
